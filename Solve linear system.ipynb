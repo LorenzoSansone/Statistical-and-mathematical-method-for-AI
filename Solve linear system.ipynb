{
 "cells": [
  {
   "cell_type": "code",
   "execution_count": 2,
   "id": "597243a0",
   "metadata": {},
   "outputs": [
    {
     "name": "stdout",
     "output_type": "stream",
     "text": [
      "The solution is [ 1. -1.  0.].\n"
     ]
    }
   ],
   "source": [
    "import numpy as np\n",
    "# Generates the problem\n",
    "A = np.array()\n",
    "y = np.array([0, 1, 0])\n",
    "\n",
    "# Solve the system\n",
    "x_sol = np.linalg.solve(A, y)\n",
    "print(f\"The solution is {x_sol}.\")"
   ]
  },
  {
   "cell_type": "code",
   "execution_count": 4,
   "id": "327f2849",
   "metadata": {},
   "outputs": [
    {
     "name": "stdout",
     "output_type": "stream",
     "text": [
      "[[1 1 1]\n",
      " [2 1 2]\n",
      " [0 0 1]]\n",
      "[1. 0. 1.]\n"
     ]
    }
   ],
   "source": [
    "#Define a test problem\n",
    "A = np.array([[1, 1, 1], [2, 1, 2], [0, 0, 1]])\n",
    "print(A)\n",
    "\n",
    "x_true = np.array([1, 0, 1]) \n",
    "y = A @ x_true #calculate the y\n",
    "\n",
    "x_sol = np.linalg.solve(A, y)\n",
    "print(x_sol)\n",
    "\n"
   ]
  },
  {
   "cell_type": "code",
   "execution_count": 8,
   "id": "4f998a6e",
   "metadata": {},
   "outputs": [
    {
     "name": "stdout",
     "output_type": "stream",
     "text": [
      "Relative error  = 0.0\n"
     ]
    }
   ],
   "source": [
    "print(f\"Relative error  = {np.linalg.norm(x_sol - x_true)/ np.linalg.norm(x_true)}\")"
   ]
  },
  {
   "cell_type": "code",
   "execution_count": 9,
   "id": "ba0b28bd",
   "metadata": {},
   "outputs": [
    {
     "name": "stdout",
     "output_type": "stream",
     "text": [
      "K(A) = 9.412293755407312 \n"
     ]
    }
   ],
   "source": [
    "print(f\"K(A) = {np.linalg.cond(A,2)} \")"
   ]
  },
  {
   "cell_type": "code",
   "execution_count": 27,
   "id": "46756024",
   "metadata": {},
   "outputs": [],
   "source": [
    "#Exercise\n",
    "n = 1000\n",
    "# Define a matrix A which is a randome matrix with normal entries of dimension n x n. \n",
    "# Define a vector x_true of length n and all ones.\n",
    "# Deine a vector y such that x_true is the solution of y = A x(_true) ( test problem)"
   ]
  },
  {
   "cell_type": "code",
   "execution_count": 28,
   "id": "0d06ca0b",
   "metadata": {},
   "outputs": [],
   "source": [
    "A = np.random.randn(n,n)\n",
    "x_true = np.ones((n,1))\n",
    "y = A @ x_true\n"
   ]
  },
  {
   "cell_type": "code",
   "execution_count": 29,
   "id": "7656e4d5",
   "metadata": {},
   "outputs": [],
   "source": [
    "import scipy\n"
   ]
  },
  {
   "cell_type": "code",
   "execution_count": 30,
   "id": "da2578c6",
   "metadata": {},
   "outputs": [
    {
     "name": "stdout",
     "output_type": "stream",
     "text": [
      "[[ 1.          0.          0.         ...  0.          0.\n",
      "   0.        ]\n",
      " [-0.81436754  1.          0.         ...  0.          0.\n",
      "   0.        ]\n",
      " [-0.17372487  0.13555654  1.         ...  0.          0.\n",
      "   0.        ]\n",
      " ...\n",
      " [-0.26131912  0.24421132 -0.23736591 ...  1.          0.\n",
      "   0.        ]\n",
      " [-0.00940661 -0.22988124  0.14808356 ...  0.30483004  1.\n",
      "   0.        ]\n",
      " [-0.41653579  0.37739565 -0.44411613 ...  0.65852256  0.48484735\n",
      "   1.        ]]\n"
     ]
    }
   ],
   "source": [
    "#compute the LU factorization of A by the  lu  function in scipy\n",
    "P, L, U = scipy.linalg.lu(A)\n",
    "print(L)"
   ]
  },
  {
   "cell_type": "code",
   "execution_count": 34,
   "id": "14986649",
   "metadata": {},
   "outputs": [
    {
     "name": "stdout",
     "output_type": "stream",
     "text": [
      "3 -> Error:3.4518236613818645e-16.\n",
      "3 -> K(A) = 40.80455853970989 \n",
      "[[1.]\n",
      " [1.]\n",
      " [1.]]\n",
      "5 -> Error:1.4043333874306804e-16.\n",
      "5 -> K(A) = 12.59379085257721 \n",
      "[[1.]\n",
      " [1.]\n",
      " [1.]\n",
      " [1.]\n",
      " [1.]]\n",
      "10 -> Error:3.614624287906422e-16.\n",
      "10 -> K(A) = 43.41730729847926 \n",
      "[[1.]\n",
      " [1.]\n",
      " [1.]\n",
      " [1.]\n",
      " [1.]\n",
      " [1.]\n",
      " [1.]\n",
      " [1.]\n",
      " [1.]\n",
      " [1.]]\n",
      "20 -> Error:1.3401086353509591e-15.\n",
      "20 -> K(A) = 27.705547343592368 \n",
      "[[1.]\n",
      " [1.]\n",
      " [1.]\n",
      " [1.]\n",
      " [1.]\n",
      " [1.]\n",
      " [1.]\n",
      " [1.]\n",
      " [1.]\n",
      " [1.]\n",
      " [1.]\n",
      " [1.]\n",
      " [1.]\n",
      " [1.]\n",
      " [1.]\n",
      " [1.]\n",
      " [1.]\n",
      " [1.]\n",
      " [1.]\n",
      " [1.]]\n"
     ]
    }
   ],
   "source": [
    "for n in [3,5,10,20]:\n",
    "    A = np.random.randn(n,n)\n",
    "    x_true = np.ones((n,1))\n",
    "    y = A @ x_true\n",
    "\n",
    "\n",
    "    #compute the LU factorization of A by the  lu  function in scipy\n",
    "    P, L, U = scipy.linalg.lu(A)\n",
    "\n",
    "\n",
    "    #Compute PT y(PT = P Transpose)\n",
    "    PTy = P.T @ y\n",
    "\n",
    "    #Solve Forward- Backward substitution\n",
    "    z=scipy.linalg.solve_triangular(L,PTy,lower=True)\n",
    "    x=scipy.linalg.solve_triangular(U,z, lower=False)\n",
    "    #z=np.linalg.solve(L,PTy)\n",
    "    #x=np.linalg.solve(U,z)\n",
    "    #Comoute error \n",
    "    E = np.linalg.norm(x - x_true) / np.linalg.norm(x_true)\n",
    "    print(f\"{n} -> Error:{E}.\")\n",
    "    print(f\"{n} -> K(A) = {np.linalg.cond(A,2)} \")\n",
    "    print(x)\n",
    "\n",
    "\n",
    "\n",
    "#For n = 3,5,10,20 -> print out error and the condition number of A"
   ]
  },
  {
   "cell_type": "code",
   "execution_count": 33,
   "id": "f9257eb7",
   "metadata": {},
   "outputs": [
    {
     "name": "stdout",
     "output_type": "stream",
     "text": [
      "[[1.]\n",
      " [1.]\n",
      " [1.]\n",
      " [1.]\n",
      " [1.]\n",
      " [1.]\n",
      " [1.]\n",
      " [1.]\n",
      " [1.]\n",
      " [1.]\n",
      " [1.]\n",
      " [1.]\n",
      " [1.]\n",
      " [1.]\n",
      " [1.]\n",
      " [1.]\n",
      " [1.]\n",
      " [1.]\n",
      " [1.]\n",
      " [1.]]\n"
     ]
    }
   ],
   "source": [
    "print(x)"
   ]
  },
  {
   "cell_type": "code",
   "execution_count": null,
   "id": "9545f9ea",
   "metadata": {},
   "outputs": [],
   "source": []
  }
 ],
 "metadata": {
  "kernelspec": {
   "display_name": "Python 3 (ipykernel)",
   "language": "python",
   "name": "python3"
  },
  "language_info": {
   "codemirror_mode": {
    "name": "ipython",
    "version": 3
   },
   "file_extension": ".py",
   "mimetype": "text/x-python",
   "name": "python",
   "nbconvert_exporter": "python",
   "pygments_lexer": "ipython3",
   "version": "3.9.16"
  }
 },
 "nbformat": 4,
 "nbformat_minor": 5
}
